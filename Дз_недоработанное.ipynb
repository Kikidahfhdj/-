{
  "cells": [
    {
      "cell_type": "markdown",
      "metadata": {
        "id": "view-in-github",
        "colab_type": "text"
      },
      "source": [
        "<a href=\"https://colab.research.google.com/github/Kikidahfhdj/-/blob/main/%D0%94%D0%B7_%D0%BD%D0%B5%D0%B4%D0%BE%D1%80%D0%B0%D0%B1%D0%BE%D1%82%D0%B0%D0%BD%D0%BD%D0%BE%D0%B5.ipynb\" target=\"_parent\"><img src=\"https://colab.research.google.com/assets/colab-badge.svg\" alt=\"Open In Colab\"/></a>"
      ]
    },
    {
      "cell_type": "code",
      "execution_count": null,
      "metadata": {
        "id": "AjwIyY4dzIIx"
      },
      "outputs": [],
      "source": [
        "import requests\n",
        "from requests.exceptions import HTTPError\n",
        "\n",
        "def send_request(status_code=200):\n",
        "    response = requests.get(\"https://httpstat.us/%d\" % status_code)\n",
        "    response.raise_for_status()\n",
        "    return response.status_code"
      ]
    },
    {
      "cell_type": "code",
      "execution_count": null,
      "metadata": {
        "colab": {
          "background_save": true,
          "base_uri": "https://localhost:8080/"
        },
        "id": "PBfWx3jbzQeP",
        "outputId": "2b6d85b3-cdcc-4ab4-f25e-25050190e8a7"
      },
      "outputs": [
        {
          "name": "stdout",
          "output_type": "stream",
          "text": [
            "Произошла ошибка при отправке HTTP-запроса: 404 Client Error: Not Found for url: https://httpstat.us/404\n",
            "Получен код:\n",
            "404\n",
            "Введите данные заново\n",
            "Получен код:\n",
            "404\n"
          ]
        }
      ],
      "source": [
        "while True:\n",
        "    try:\n",
        "        code = int(input(\"Введите http код для проверки >\"))\n",
        "        response_code = send_request(code)\n",
        "        break\n",
        "    except HTTPError as ex:\n",
        "        print(\"Произошла ошибка при отправке HTTP-запроса: %s\" % str(ex))\n",
        "        response_code = ex.response.status_code\n",
        "    except ValueError:\n",
        "        print(\"Введите данные заново: \")\n",
        "    finally:\n",
        "        print(\"Получен код:\")\n",
        "        print(response_code)"
      ]
    },
    {
      "cell_type": "code",
      "execution_count": null,
      "metadata": {
        "id": "-UrUzDViz94w"
      },
      "outputs": [],
      "source": []
    }
  ],
  "metadata": {
    "colab": {
      "provenance": [],
      "authorship_tag": "ABX9TyOi3Ox4YWvUGv1tlEnnSs2h",
      "include_colab_link": true
    },
    "kernelspec": {
      "display_name": "Python 3",
      "name": "python3"
    },
    "language_info": {
      "name": "python"
    }
  },
  "nbformat": 4,
  "nbformat_minor": 0
}