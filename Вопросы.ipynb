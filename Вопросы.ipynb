{
 "cells": [
  {
   "cell_type": "code",
   "execution_count": null,
   "id": "0dc29750-1d53-4928-8671-0630062a5e93",
   "metadata": {},
   "outputs": [
    {
     "name": "stdout",
     "output_type": "stream",
     "text": [
      "Ответьте на вопросы:\n"
     ]
    }
   ],
   "source": [
    "questions = [\n",
    "    ('Какая версия языка сейчас актуальна?', 'Python3'),\n",
    "    ('Какая кодировка используется в строках?', 'UTF8'),\n",
    "    ('Сколько значений есть у bool?', '2'),\n",
    "    ('Как называется таблица символов с их цифровыми кодами?', 'Unicode'),\n",
    "    ('Как называется метод создающий новую строку с символами в нижнем регистре?', 'lower'),\n",
    "    ('Сколько байт выделяется в utf-8 для ASCII символов?', '1'),\n",
    "    ('Можно ли сравнивать строки?', 'да'),\n",
    "    ('С помощью какого метода можно узнать длину строки?', 'len'),\n",
    "    ('Как называется объект, который может возвращать свои вложенные объекты по одному?', 'итерируемый'),\n",
    "    ('Как называется соединение двух строк в единую строку?', 'конкатенация')\n",
    "]\n",
    "\n",
    "correct_count = 0\n",
    "\n",
    "print(\"Ответьте на вопросы:\")\n",
    "\n",
    "for question, correct_answer in questions:\n",
    "    while True:\n",
    "     user_answer = input(question + \" — \").lower()\n",
    "     if user_answer == correct_answer.lower():\n",
    "        print(f'Ответ {correct_answer} верен.')\n",
    "        correct_count += 1\n",
    "        break\n",
    "     else:\n",
    "        print('Неверный ответ')\n",
    "         \n",
    "\n",
    "print(f\"\\nВы дали {correct_count} правильных ответов из {len(questions)}.\")"
   ]
  },
  {
   "cell_type": "code",
   "execution_count": null,
   "id": "88b9c0e6-d110-4c69-98fe-d9d23bb4e994",
   "metadata": {},
   "outputs": [],
   "source": []
  }
 ],
 "metadata": {
  "kernelspec": {
   "display_name": "Python 3 (ipykernel)",
   "language": "python",
   "name": "python3"
  },
  "language_info": {
   "codemirror_mode": {
    "name": "ipython",
    "version": 3
   },
   "file_extension": ".py",
   "mimetype": "text/x-python",
   "name": "python",
   "nbconvert_exporter": "python",
   "pygments_lexer": "ipython3",
   "version": "3.8.18"
  }
 },
 "nbformat": 4,
 "nbformat_minor": 5
}
